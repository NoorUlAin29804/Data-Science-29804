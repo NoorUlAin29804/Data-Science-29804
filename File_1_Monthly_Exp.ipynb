{
  "nbformat": 4,
  "nbformat_minor": 0,
  "metadata": {
    "colab": {
      "provenance": []
    },
    "kernelspec": {
      "name": "python3",
      "display_name": "Python 3"
    },
    "language_info": {
      "name": "python"
    }
  },
  "cells": [
    {
      "cell_type": "code",
      "execution_count": 15,
      "metadata": {
        "colab": {
          "base_uri": "https://localhost:8080/"
        },
        "id": "46vmF3CwowNP",
        "outputId": "75f34c17-0b94-420b-f37c-6bf61a90209c"
      },
      "outputs": [
        {
          "output_type": "stream",
          "name": "stdout",
          "text": [
            "January: $2000\n",
            "February: $2350\n",
            "March: $2600\n",
            "April: $2130\n",
            "May: $2190\n",
            "\n",
            "Extra amount spent in February compared to January: $350\n",
            "Monthly Expenses in first quarter:$ 6950\n"
          ]
        }
      ],
      "source": [
        "\n",
        "\n",
        "\n",
        "# Create a list to store monthly expenses\n",
        "monthly_expenses = [2000, 2350, 2600, 2130, 2190]\n",
        "\n",
        "# Assign month names to the expenses\n",
        "months = [\"January\", \"February\", \"March\", \"April\", \"May\"]\n",
        "\n",
        "# Print the expenses for each month\n",
        "for i in range(len(months)):\n",
        "    print(f\"{months[i]}: ${monthly_expenses[i]}\")\n",
        "\n",
        "# Calculate the extra amount spent in February compared to January\n",
        "extra_spent_in_february = monthly_expenses[1] - monthly_expenses[0]\n",
        "\n",
        "print(f\"\\nExtra amount spent in February compared to January: ${extra_spent_in_february}\")\n",
        "\n",
        "#Calculate the expenses in first quarter\n",
        "\n",
        "expenses_in_first_quarter = sum(monthly_expenses[0:3])\n",
        "print(f\"Monthly Expenses in first quarter:$\",expenses_in_first_quarter)\n",
        "\n"
      ]
    },
    {
      "cell_type": "code",
      "source": [
        "#Find out if any month exactly $2000 have been spent\n",
        "# Create a list to store monthly expenses\n",
        "#monthly_expenses = [2000, 2350, 2600, 2130, 2190]\n",
        "# Assign month names to the expenses\n",
        "#months = [\"January\", \"February\", \"March\", \"April\", \"May\"]\n",
        "\n",
        "if 2000 in monthly_expenses:\n",
        "    months_index = monthly_expenses.index(2000)\n",
        "    print(f\"Yes, you spent exactly $2000 in {months[months_index]}.\")\n",
        "else:\n",
        "  print(f\"You did not spend exactly $2000 in any month.\")"
      ],
      "metadata": {
        "colab": {
          "base_uri": "https://localhost:8080/"
        },
        "id": "5Q7KyzcotPch",
        "outputId": "193d74bf-5fa2-4947-fea0-59db30724772"
      },
      "execution_count": 21,
      "outputs": [
        {
          "output_type": "stream",
          "name": "stdout",
          "text": [
            "Yes, you spent exactly $2000 in January.\n"
          ]
        }
      ]
    },
    {
      "cell_type": "code",
      "source": [
        "#Add June expenses to the list\n",
        "monthly_expenses.append(1650)\n",
        "months.append(\"June\")\n",
        "\n",
        "print(\"Updated monthly expenses:\")\n",
        "for i in range (len(months)):\n",
        "  print (f\"{months[i]}: ${monthly_expenses[i]}\")"
      ],
      "metadata": {
        "colab": {
          "base_uri": "https://localhost:8080/"
        },
        "id": "ve_10YngvGUG",
        "outputId": "ae274645-13c0-45b6-86f5-6692e8e8658d"
      },
      "execution_count": 24,
      "outputs": [
        {
          "output_type": "stream",
          "name": "stdout",
          "text": [
            "Updated monthly expenses:\n",
            "January: $2000\n",
            "February: $2350\n",
            "March: $2600\n",
            "April: $2130\n",
            "May: $2190\n",
            "June: $1650\n"
          ]
        }
      ]
    },
    {
      "cell_type": "code",
      "source": [
        "#Deduct $200 from April month\n",
        "\n",
        "#Find the month April index from the list\n",
        "\n",
        "april_index = months.index (\"April\")\n",
        "\n",
        "#Deduct $200 from index April month\n",
        "\n",
        "\n",
        "monthly_expenses[april_index]-=200\n",
        "\n",
        "print(\"Updated month expenses:\")\n",
        "for i in range (len(months)):\n",
        "  print(f\"{months[i]}:${monthly_expenses[i]}\")"
      ],
      "metadata": {
        "colab": {
          "base_uri": "https://localhost:8080/"
        },
        "id": "6EUNCD495sDY",
        "outputId": "970beb1a-79ee-40ff-88e1-36f19a619bbf"
      },
      "execution_count": 26,
      "outputs": [
        {
          "output_type": "stream",
          "name": "stdout",
          "text": [
            "Updated month expenses:\n",
            "January:$2000\n",
            "February:$2350\n",
            "March:$2600\n",
            "April:$1730\n",
            "May:$2190\n",
            "June:$1650\n"
          ]
        }
      ]
    }
  ]
}